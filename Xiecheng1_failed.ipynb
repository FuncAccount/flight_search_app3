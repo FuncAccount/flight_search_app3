{
 "cells": [
  {
   "cell_type": "code",
   "execution_count": 24,
   "metadata": {},
   "outputs": [],
   "source": [
    "from selenium import webdriver\n",
    "from selenium.webdriver.common.by import By\n",
    "from selenium.webdriver.firefox.options import Options\n",
    "import pandas as pd\n",
    "import time"
   ]
  },
  {
   "cell_type": "code",
   "execution_count": 25,
   "metadata": {},
   "outputs": [],
   "source": [
    "\n",
    "\n",
    "# List of major Chinese cities and their airport codes\n",
    "cities = {\n",
    "    \"北京\": \"BJS\",  # Beijing\n",
    "    \"上海\": \"SHA\",  # Shanghai\n",
    "    \"广州\": \"CAN\",  # Guangzhou\n",
    "    \"深圳\": \"SZX\",  # Shenzhen\n",
    "    \"成都\": \"CTU\",  # Chengdu\n",
    "    \"西安\": \"XIY\",  # Xi'an\n",
    "    \"重庆\": \"CKG\",  # Chongqing\n",
    "    \"杭州\": \"HGH\",  # Hangzhou\n",
    "    \"武汉\": \"WUH\",  # Wuhan\n",
    "    \"南京\": \"NKG\",  # Nanjing\n",
    "    \"苏州\": \"SZV\",  # Suzhou\n",
    "    \"天津\": \"TSN\",  # Tianjin\n",
    "    \"昆明\": \"KMG\",  # Kunming\n",
    "    \"大连\": \"DLC\",  # Dalian\n",
    "    \"青岛\": \"TAO\",  # Qingdao\n",
    "    \"厦门\": \"XMN\",  # Xiamen\n",
    "    \"沈阳\": \"SHE\",  # Shenyang\n",
    "    \"哈尔滨\": \"HRB\",  # Harbin\n",
    "    \"长沙\": \"CSX\",  # Changsha\n",
    "    \"郑州\": \"CGO\",  # Zhengzhou\n",
    "    \"济南\": \"TNA\",  # Jinan\n",
    "    \"福州\": \"FOC\",  # Fuzhou\n",
    "    \"贵阳\": \"KWE\",  # Guiyang\n",
    "    \"石家庄\": \"SJW\",  # Shijiazhuang\n",
    "    \"长春\": \"CGQ\",  # Changchun\n",
    "    \"南昌\": \"KHN\",  # Nanchang\n",
    "    \"乌鲁木齐\": \"URC\",  # Urumqi\n",
    "    \"合肥\": \"HFE\",  # Hefei\n",
    "    \"南宁\": \"NNG\",  # Nanning\n",
    "    \"海口\": \"HAK\",  # Haikou\n",
    "    \"兰州\": \"LHW\",  # Lanzhou\n",
    "    \"银川\": \"INC\",  # Yinchuan\n",
    "    \"西宁\": \"XNN\",  # Xining\n",
    "    \"太原\": \"TYN\",  # Taiyuan\n",
    "    \"呼和浩特\": \"HET\",  # Hohhot\n",
    "}\n",
    "\n",
    "# Create a DataFrame\n",
    "city_df = pd.DataFrame(list(cities.items()), columns=['City', 'Code'])\n",
    "\n",
    "# Display the DataFrame\n",
    "# print(city_df)\n"
   ]
  },
  {
   "cell_type": "code",
   "execution_count": 26,
   "metadata": {},
   "outputs": [],
   "source": [
    "location_start = ''\n",
    "location_end = ''\n",
    "\n",
    "date = ''\n"
   ]
  },
  {
   "cell_type": "code",
   "execution_count": 27,
   "metadata": {},
   "outputs": [
    {
     "ename": "NoSuchElementException",
     "evalue": "Message: Unable to locate element: .FilterBar_filterItem__UHcT7; For documentation on this error, please visit: https://www.selenium.dev/documentation/webdriver/troubleshooting/errors#no-such-element-exception\nStacktrace:\nRemoteError@chrome://remote/content/shared/RemoteError.sys.mjs:8:8\nWebDriverError@chrome://remote/content/shared/webdriver/Errors.sys.mjs:189:5\nNoSuchElementError@chrome://remote/content/shared/webdriver/Errors.sys.mjs:507:5\ndom.find/</<@chrome://remote/content/shared/DOM.sys.mjs:132:16\n",
     "output_type": "error",
     "traceback": [
      "\u001b[1;31m---------------------------------------------------------------------------\u001b[0m",
      "\u001b[1;31mNoSuchElementException\u001b[0m                    Traceback (most recent call last)",
      "Cell \u001b[1;32mIn[27], line 38\u001b[0m\n\u001b[0;32m     35\u001b[0m     \u001b[39mprint\u001b[39m(df)\n\u001b[0;32m     37\u001b[0m \u001b[39mif\u001b[39;00m \u001b[39m__name__\u001b[39m \u001b[39m==\u001b[39m \u001b[39m\"\u001b[39m\u001b[39m__main__\u001b[39m\u001b[39m\"\u001b[39m:\n\u001b[1;32m---> 38\u001b[0m     main()\n",
      "Cell \u001b[1;32mIn[27], line 17\u001b[0m, in \u001b[0;36mmain\u001b[1;34m()\u001b[0m\n\u001b[0;32m     14\u001b[0m driver\u001b[39m.\u001b[39mget(url)\n\u001b[0;32m     16\u001b[0m \u001b[39m# Step 1: Click the filter button\u001b[39;00m\n\u001b[1;32m---> 17\u001b[0m filter_button \u001b[39m=\u001b[39m driver\u001b[39m.\u001b[39;49mfind_element(By\u001b[39m.\u001b[39;49mCLASS_NAME, \u001b[39m'\u001b[39;49m\u001b[39mFilterBar_filterItem__UHcT7\u001b[39;49m\u001b[39m'\u001b[39;49m)\n\u001b[0;32m     18\u001b[0m filter_button\u001b[39m.\u001b[39mclick()\n\u001b[0;32m     19\u001b[0m time\u001b[39m.\u001b[39msleep(\u001b[39m1\u001b[39m)  \u001b[39m# Wait for the page to load\u001b[39;00m\n",
      "File \u001b[1;32mc:\\Users\\Yijie\\AppData\\Local\\Programs\\Python\\Python310\\lib\\site-packages\\selenium\\webdriver\\remote\\webdriver.py:741\u001b[0m, in \u001b[0;36mWebDriver.find_element\u001b[1;34m(self, by, value)\u001b[0m\n\u001b[0;32m    738\u001b[0m     by \u001b[39m=\u001b[39m By\u001b[39m.\u001b[39mCSS_SELECTOR\n\u001b[0;32m    739\u001b[0m     value \u001b[39m=\u001b[39m \u001b[39mf\u001b[39m\u001b[39m'\u001b[39m\u001b[39m[name=\u001b[39m\u001b[39m\"\u001b[39m\u001b[39m{\u001b[39;00mvalue\u001b[39m}\u001b[39;00m\u001b[39m\"\u001b[39m\u001b[39m]\u001b[39m\u001b[39m'\u001b[39m\n\u001b[1;32m--> 741\u001b[0m \u001b[39mreturn\u001b[39;00m \u001b[39mself\u001b[39;49m\u001b[39m.\u001b[39;49mexecute(Command\u001b[39m.\u001b[39;49mFIND_ELEMENT, {\u001b[39m\"\u001b[39;49m\u001b[39musing\u001b[39;49m\u001b[39m\"\u001b[39;49m: by, \u001b[39m\"\u001b[39;49m\u001b[39mvalue\u001b[39;49m\u001b[39m\"\u001b[39;49m: value})[\u001b[39m\"\u001b[39m\u001b[39mvalue\u001b[39m\u001b[39m\"\u001b[39m]\n",
      "File \u001b[1;32mc:\\Users\\Yijie\\AppData\\Local\\Programs\\Python\\Python310\\lib\\site-packages\\selenium\\webdriver\\remote\\webdriver.py:347\u001b[0m, in \u001b[0;36mWebDriver.execute\u001b[1;34m(self, driver_command, params)\u001b[0m\n\u001b[0;32m    345\u001b[0m response \u001b[39m=\u001b[39m \u001b[39mself\u001b[39m\u001b[39m.\u001b[39mcommand_executor\u001b[39m.\u001b[39mexecute(driver_command, params)\n\u001b[0;32m    346\u001b[0m \u001b[39mif\u001b[39;00m response:\n\u001b[1;32m--> 347\u001b[0m     \u001b[39mself\u001b[39;49m\u001b[39m.\u001b[39;49merror_handler\u001b[39m.\u001b[39;49mcheck_response(response)\n\u001b[0;32m    348\u001b[0m     response[\u001b[39m\"\u001b[39m\u001b[39mvalue\u001b[39m\u001b[39m\"\u001b[39m] \u001b[39m=\u001b[39m \u001b[39mself\u001b[39m\u001b[39m.\u001b[39m_unwrap_value(response\u001b[39m.\u001b[39mget(\u001b[39m\"\u001b[39m\u001b[39mvalue\u001b[39m\u001b[39m\"\u001b[39m, \u001b[39mNone\u001b[39;00m))\n\u001b[0;32m    349\u001b[0m     \u001b[39mreturn\u001b[39;00m response\n",
      "File \u001b[1;32mc:\\Users\\Yijie\\AppData\\Local\\Programs\\Python\\Python310\\lib\\site-packages\\selenium\\webdriver\\remote\\errorhandler.py:229\u001b[0m, in \u001b[0;36mErrorHandler.check_response\u001b[1;34m(self, response)\u001b[0m\n\u001b[0;32m    227\u001b[0m         alert_text \u001b[39m=\u001b[39m value[\u001b[39m\"\u001b[39m\u001b[39malert\u001b[39m\u001b[39m\"\u001b[39m]\u001b[39m.\u001b[39mget(\u001b[39m\"\u001b[39m\u001b[39mtext\u001b[39m\u001b[39m\"\u001b[39m)\n\u001b[0;32m    228\u001b[0m     \u001b[39mraise\u001b[39;00m exception_class(message, screen, stacktrace, alert_text)  \u001b[39m# type: ignore[call-arg]  # mypy is not smart enough here\u001b[39;00m\n\u001b[1;32m--> 229\u001b[0m \u001b[39mraise\u001b[39;00m exception_class(message, screen, stacktrace)\n",
      "\u001b[1;31mNoSuchElementException\u001b[0m: Message: Unable to locate element: .FilterBar_filterItem__UHcT7; For documentation on this error, please visit: https://www.selenium.dev/documentation/webdriver/troubleshooting/errors#no-such-element-exception\nStacktrace:\nRemoteError@chrome://remote/content/shared/RemoteError.sys.mjs:8:8\nWebDriverError@chrome://remote/content/shared/webdriver/Errors.sys.mjs:189:5\nNoSuchElementError@chrome://remote/content/shared/webdriver/Errors.sys.mjs:507:5\ndom.find/</<@chrome://remote/content/shared/DOM.sys.mjs:132:16\n"
     ]
    }
   ],
   "source": [
    "\n",
    "\n",
    "def build_ctrip_url(departure_code, arrival_code, date):\n",
    "    base_url = \"https://m.ctrip.com/html5/flight/taro/first\"\n",
    "    return f\"{base_url}?dcode={departure_code}&acode={arrival_code}&ddate={date}&fromseo=true&fromtinyhome=1&from=outer\"\n",
    "\n",
    "def main():\n",
    "    url = build_ctrip_url('BJS', 'CKG', '2023-12-03')\n",
    "    # Initialize WebDriver with custom User-Agent\n",
    "    options = Options()\n",
    "    user_agent = 'Mozilla/5.0 (Windows NT 10.0; Win64; x64; rv:88.0) Gecko/20100101 Firefox/88.0'\n",
    "    options.set_preference(\"general.useragent.override\", user_agent)\n",
    "    \n",
    "    # Update the path to Geckodriver if it's not in your PATH\n",
    "    driver = webdriver.Firefox(options=options)\n",
    "    driver.get(url)\n",
    "\n",
    "    # Step 1: Click the filter button\n",
    "    filter_button = driver.find_element(By.CLASS_NAME, 'FilterBar_filterItem__UHcT7')\n",
    "    filter_button.click()\n",
    "    time.sleep(1)  # Wait for the page to load\n",
    "\n",
    "    # Step 2: Click the button for '中转城市'\n",
    "    city_button = driver.find_element(By.CLASS_NAME, 'Filter_side-tab-item__1dM0W')\n",
    "    city_button.click()\n",
    "    time.sleep(1)  # Wait for the page to load\n",
    "\n",
    "    # Step 3: Extract city names\n",
    "    city_elements = driver.find_elements(By.CLASS_NAME, 'Filter_filter-selection__klcuh')\n",
    "    cities = [elem.text for elem in city_elements]\n",
    "\n",
    "    # Close the driver\n",
    "    driver.quit()\n",
    "\n",
    "    # Step 4: Create DataFrame\n",
    "    df = pd.DataFrame({'location_start': 'BJS', 'connecting_cities': cities})\n",
    "    print(df)\n",
    "\n",
    "if __name__ == \"__main__\":\n",
    "    main()\n",
    "\n"
   ]
  },
  {
   "cell_type": "code",
   "execution_count": 29,
   "metadata": {},
   "outputs": [
    {
     "name": "stdout",
     "output_type": "stream",
     "text": [
      "{'data': {'oneWayPrice': [{'20231203': 300, '20231204': 150, '20231205': 120, '20231206': 120, '20231207': 150, '20231208': 392, '20231209': 120, '20231210': 340, '20231211': 200, '20231212': 150, '20231213': 150, '20231214': 150, '20231215': 200, '20231216': 150, '20231217': 150, '20231218': 290, '20231219': 150, '20231220': 300, '20231221': 200, '20231222': 288, '20231223': 200, '20231224': 240, '20231225': 300, '20231226': 200, '20231227': 240, '20231228': 240, '20231229': 535, '20231230': 350, '20231231': 380, '20240101': 344, '20240102': 350, '20240103': 344, '20240104': 400, '20240105': 350, '20240106': 350, '20240107': 350, '20240108': 350, '20240109': 350, '20240110': 400, '20240111': 400, '20240112': 360, '20240113': 350, '20240114': 360, '20240115': 350, '20240116': 350, '20240117': 400, '20240118': 330, '20240119': 330, '20240120': 330, '20240121': 330, '20240122': 420, '20240123': 330, '20240124': 330, '20240125': 335, '20240126': 420, '20240127': 420, '20240128': 420, '20240129': 420, '20240130': 520, '20240131': 480, '20240201': 550, '20240202': 590, '20240203': 710, '20240204': 710, '20240205': 540, '20240206': 710, '20240207': 710, '20240208': 710, '20240209': 420, '20240210': 420, '20240211': 420, '20240212': 480, '20240213': 540, '20240214': 710, '20240215': 830, '20240216': 830, '20240217': 710, '20240218': 830, '20240219': 710, '20240220': 710, '20240221': 710, '20240222': 710, '20240223': 710, '20240224': 540, '20240225': 540, '20240226': 540, '20240227': 540, '20240228': 540, '20240229': 540, '20240301': 540}], 'roundTripPrice': None, 'singleToRoundPrice': None}, 'status': 0, 'msg': 'success'}\n"
     ]
    }
   ],
   "source": [
    "import requests\n",
    "\n",
    "url = \"https://flights.ctrip.com/itinerary/api/12808/lowestPrice?flightWay=Oneway&dcity=NNG&acity=WUH&direct=false&army=false\"\n",
    "response = requests.get(url)\n",
    "\n",
    "# Check if the request was successful\n",
    "if response.status_code == 200:\n",
    "    data = response.json()\n",
    "    print(data)  # Or process the data as needed\n",
    "else:\n",
    "    print(\"Failed to retrieve data\")\n"
   ]
  },
  {
   "cell_type": "code",
   "execution_count": 31,
   "metadata": {},
   "outputs": [],
   "source": [
    "\n"
   ]
  },
  {
   "cell_type": "code",
   "execution_count": null,
   "metadata": {},
   "outputs": [],
   "source": []
  }
 ],
 "metadata": {
  "kernelspec": {
   "display_name": "Python 3",
   "language": "python",
   "name": "python3"
  },
  "language_info": {
   "codemirror_mode": {
    "name": "ipython",
    "version": 3
   },
   "file_extension": ".py",
   "mimetype": "text/x-python",
   "name": "python",
   "nbconvert_exporter": "python",
   "pygments_lexer": "ipython3",
   "version": "3.10.6"
  },
  "orig_nbformat": 4
 },
 "nbformat": 4,
 "nbformat_minor": 2
}
